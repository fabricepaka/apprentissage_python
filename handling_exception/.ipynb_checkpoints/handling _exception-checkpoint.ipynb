{
 "cells": [
  {
   "cell_type": "markdown",
   "id": "ce460b05",
   "metadata": {},
   "source": [
    "# Handling Exception\n",
    "\n",
    "L'objectif de ce notebook est d'apprendre les differentes types d'erreurs( encore appelees exceptions) et de la facon dont il faut les gerer.\n",
    "\n"
   ]
  },
  {
   "cell_type": "code",
   "execution_count": null,
   "id": "d5c0d5d5",
   "metadata": {},
   "outputs": [],
   "source": [
    "# Erreur division par 0\n",
    "10/0"
   ]
  },
  {
   "cell_type": "markdown",
   "id": "ac1a1d2f",
   "metadata": {},
   "source": [
    "Dans le cas precedent l'interpréteur est leve une exception de type ZeroDivisionError"
   ]
  },
  {
   "cell_type": "code",
   "execution_count": null,
   "id": "1d8863ce",
   "metadata": {},
   "outputs": [],
   "source": [
    "value = int(input('Enter an integer: '))"
   ]
  },
  {
   "cell_type": "code",
   "execution_count": null,
   "id": "0a3655d8",
   "metadata": {},
   "outputs": [],
   "source": []
  },
  {
   "cell_type": "code",
   "execution_count": null,
   "id": "7fe317aa",
   "metadata": {},
   "outputs": [],
   "source": []
  }
 ],
 "metadata": {
  "kernelspec": {
   "display_name": "Python 3 (ipykernel)",
   "language": "python",
   "name": "python3"
  },
  "language_info": {
   "codemirror_mode": {
    "name": "ipython",
    "version": 3
   },
   "file_extension": ".py",
   "mimetype": "text/x-python",
   "name": "python",
   "nbconvert_exporter": "python",
   "pygments_lexer": "ipython3",
   "version": "3.7.16"
  }
 },
 "nbformat": 4,
 "nbformat_minor": 5
}
