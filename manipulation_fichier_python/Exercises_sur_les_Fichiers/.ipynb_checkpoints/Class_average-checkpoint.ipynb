{
 "cells": [
  {
   "cell_type": "markdown",
   "id": "b219142d",
   "metadata": {},
   "source": [
    "# Calcul de la moyenne d'une classe a partir de donnees enregistrer dans un fichier\n",
    "\n",
    "### Exercice 1: \n",
    "\n",
    "Ecrire un programme qui vous permet de stocker n'importe quel nombre de notes dans un\n",
    "fichier texte nommee grades.txt."
   ]
  },
  {
   "cell_type": "code",
   "execution_count": 1,
   "id": "3badbf39",
   "metadata": {},
   "outputs": [
    {
     "name": "stdout",
     "output_type": "stream",
     "text": [
      "Entrer une note, entrer-1 pour arreter: 10\n",
      "Entrer une note, entrer-1 pour arreter: 18\n",
      "Entrer une note, entrer-1 pour arreter: 4\n",
      "Entrer une note, entrer-1 pour arreter: 15\n",
      "Entrer une note, entrer-1 pour arreter: 19\n",
      "Entrer une note, entrer-1 pour arreter: 12\n",
      "Entrer une note, entrer-1 pour arreter: -1\n"
     ]
    }
   ],
   "source": [
    "with open('data/grades.txt', mode='w') as grades:\n",
    "    grade = input('Entrer une note, entrer-1 pour arreter: ')\n",
    "    while float(grade) !=-1.:\n",
    "        grades.write(grade+'\\n')\n",
    "        grade = input('Entrer une note, entrer-1 pour arreter: ')\n",
    "        "
   ]
  },
  {
   "cell_type": "markdown",
   "id": "31828388",
   "metadata": {},
   "source": [
    "\n",
    "### Exercice 2:\n",
    "Ecrire un programme qui lis le fichier grades.txt creer dans l'exercice precedent et affiche  a l'ecran, toutes les notes,leurs sommes total, leurs nombres et leurs moyennes."
   ]
  },
  {
   "cell_type": "code",
   "execution_count": 3,
   "id": "8a86ebfa",
   "metadata": {},
   "outputs": [
    {
     "name": "stdout",
     "output_type": "stream",
     "text": [
      "Notes:\n",
      "10.0\n",
      "18.0\n",
      "4.0\n",
      "15.0\n",
      "19.0\n",
      "12.0\n",
      "\n",
      "Somme totale des notes: 78.0\n",
      "Nombre total des notes: 6\n",
      "Note moyenne est:13.00\n"
     ]
    }
   ],
   "source": [
    "with open('data/grades.txt',mode='r') as grades:\n",
    "    grades_count = 0\n",
    "    total_grades = 0\n",
    "    mean_grades = 0\n",
    "    print(\"Notes:\")\n",
    "    for grade in grades:\n",
    "        print(float(grade))\n",
    "        grades_count += 1\n",
    "        total_grades += float(grade)\n",
    "        \n",
    "    print('\\nSomme totale des notes:',total_grades)\n",
    "    print('Nombre total des notes:',grades_count)\n",
    "    print(f'Note moyenne est:{total_grades/grades_count:.2f}')"
   ]
  },
  {
   "cell_type": "markdown",
   "id": "86787e63",
   "metadata": {},
   "source": [
    "### Exercice 3\n",
    "\n",
    "Un instructeur donne un cours dans lequel chaque étudiant passe trois examens. L'instructeur souhaite stocker ces informations dans un fichier nommé grades.csv pour une utilisation ultérieure. Écrivez un code qui permet à un instructeur de saisir le prénom et le nom de chaque étudiant sous forme de chaînes et les trois notes d'examen de l'étudiant sous forme d'entiers. Utilisez le module csv pour écrire chaque enregistrement dans le fichier grades.csv. Chaque\n",
    "enregistrement doit être une seule ligne de texte au format CSV suivant :\n",
    "*firstname,lastname,exam1grade,exam2grade,exam3grade*"
   ]
  },
  {
   "cell_type": "code",
   "execution_count": 4,
   "id": "d8b3d9d9",
   "metadata": {},
   "outputs": [
    {
     "name": "stdout",
     "output_type": "stream",
     "text": [
      "Prenom de l'eleve Romuald\n",
      "Nom de l'eleve Roger\n",
      "note du premier exam 10\n",
      "note du deuxieme exam 15\n",
      "note du troisieme exam 16\n",
      "suivant? (\"o\" pour oui, \"n\" pour non)o\n",
      "Prenom de l'eleve Roger\n",
      "Nom de l'eleve Denis\n",
      "note du premier exam 2\n",
      "note du deuxieme exam 16\n",
      "note du troisieme exam 19\n",
      "suivant? (\"o\" pour oui, \"n\" pour non)n\n"
     ]
    }
   ],
   "source": [
    "import csv\n",
    "with open('data/students_grades.csv', mode='w', newline='') as studentsgrades:\n",
    "    writer = csv.writer(studentsgrades)\n",
    "    writer.writerow(['firstname','lastname','exam1grade','exam2grade', 'exam3grade'])\n",
    "    continu = 'o'\n",
    "    while continu == 'o':\n",
    "        firstname  = input(\"Prenom de l'eleve \")\n",
    "        lastname   = input(\"Nom de l'eleve \")\n",
    "        exam1grade = input(\"note du premier exam \")\n",
    "        exam2grade = input(\"note du deuxieme exam \")\n",
    "        exam3grade = input(\"note du troisieme exam \")\n",
    "        writer.writerow([firstname,lastname,exam1grade,exam2grade, exam3grade])\n",
    "        continu    = input('suivant? (\"o\" pour oui, \"n\" pour non)')\n",
    "    "
   ]
  },
  {
   "cell_type": "markdown",
   "id": "2693c439",
   "metadata": {},
   "source": [
    "### Exercise 4\n",
    "\n",
    "Utilise le module csv pour lire et afficher les donnees de student_grades.csv de l'exercice precedent. Affiche les donnees sous forme tabulaire.\n"
   ]
  },
  {
   "cell_type": "code",
   "execution_count": 6,
   "id": "8f5ff4f2",
   "metadata": {},
   "outputs": [
    {
     "name": "stdout",
     "output_type": "stream",
     "text": [
      "firstname lastname  exam1grade     exam2grade     exam3grade\n",
      "Romuald   Roger     10             15                     16\n",
      "Roger     Denis     2              16                     19\n"
     ]
    }
   ],
   "source": [
    "with open('data/students_grades.csv', mode='r', newline='') as grades:\n",
    "    reader = csv.reader(grades)\n",
    "    for record in reader: \n",
    "        firstname,lastname,exam1grade,exam2grade, exam3grade = record\n",
    "        print(f'{firstname:<10}{lastname:<10}{exam1grade:<15}{exam2grade:<15}{exam3grade:>10}')"
   ]
  },
  {
   "cell_type": "code",
   "execution_count": null,
   "id": "e1e716dd",
   "metadata": {},
   "outputs": [],
   "source": []
  }
 ],
 "metadata": {
  "kernelspec": {
   "display_name": "Python 3 (ipykernel)",
   "language": "python",
   "name": "python3"
  },
  "language_info": {
   "codemirror_mode": {
    "name": "ipython",
    "version": 3
   },
   "file_extension": ".py",
   "mimetype": "text/x-python",
   "name": "python",
   "nbconvert_exporter": "python",
   "pygments_lexer": "ipython3",
   "version": "3.7.16"
  }
 },
 "nbformat": 4,
 "nbformat_minor": 5
}
