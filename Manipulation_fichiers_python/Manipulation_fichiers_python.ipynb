{
 "cells": [
  {
   "cell_type": "markdown",
   "id": "e20df09c",
   "metadata": {},
   "source": [
    "# Files\n",
    "\n",
    "Bienvenue dans ce notebook d'apprentissage python. Il est consacré à l'apprentissage de la manipulation des fichiers CSV (comma-separated values), JSON (JavaScript Object Notation), Pickle… et au traitement des erreurs.\n",
    "\n",
    "\n",
    "### Fichiers \n",
    "\n",
    "Pour tout fichier Python qu'on ouvre dans un programme Python, Python crée en réalité un objet fichier pour  nous permettre d'interagir avec ce fichier.\n",
    "\n",
    "Lorsqu’un programme Python commence à s’exécuter, il crée trois objets de fichier standard :\n",
    "  - sys.stdin — l’objet fichier d’entrée standard (est utilisé par la fonction **input** pour acceder aux valeurs         fournies en entrée par l'utilisateur)  \n",
    "  - sys.stdout – l’objet de fichier de sortie standard(est utilisé par la fonction **print** pour afficheer les      valeurs de sortie par l'utilisateur;\n",
    "  - sys.stderr – l’objet de fichier d’erreur standard. (python accede implicitement a ce fichier pour l'affichage d'erreur)\n",
    "\n",
    "\n",
    " Vous devez importer le module sys si vous avez besoin de faire référence à ces objets explicitement dans votre code.\n",
    " \n",
    " ### Traitement des fichiers textes\n",
    " \n",
    " #### Ecriture dans un fichier texte"
   ]
  },
  {
   "cell_type": "code",
   "execution_count": 31,
   "id": "44f9d938",
   "metadata": {},
   "outputs": [],
   "source": [
    "### creation d'un nouveau fichier (.txt == plain text file) 'accounts.txt' et ecriture dans ce ficher\n",
    "with open('account.txt', mode= 'w') as accounts:\n",
    "    accounts.write('100 Jones 24.98\\n')\n",
    "    accounts.write('200 Doe 345.67\\n')\n",
    "    accounts.write('300 White 0.00\\n')\n",
    "    accounts.write('400 Stone -42.16\\n')\n",
    "    accounts.write('500 Rich 224.62\\n')\n",
    "\n",
    "### Meme chose que precedemment mais avec la fonction print\n",
    "with open('accounts.txt', mode= 'w') as accounts:\n",
    "    print('100 Jones 24.98', file=accounts)   # Ici pas besoin d'utiliser le caractere retour a la ligne \\n.\n",
    "    print('200 Jones 24.98', file=accounts)   # Pour aller a la ligne. Elle s'effectue automatiquement avec print."
   ]
  },
  {
   "cell_type": "markdown",
   "id": "93243f69",
   "metadata": {},
   "source": [
    "L'instruction **with** de python:\n",
    " - Accede a une ressource et a affecter l'objet de cette ressource a une variable\n",
    " - Permet la modification de cette ressource via cette variable\n",
    " - ferme automatiquement la ressource une fois le programme atteint la fin de l'instruction **with** \n",
    "\n",
    "L'instruction **open** de python:\n",
    "- Ouvre le fichier\n",
    "- le parametre **mode** specifie le mode d'ouverture:'w' pour ecriture, 'r' pour lecture\n",
    "\n",
    "L'instruction **as** permet d'assigner l'objet du fichier a une variable (accounts dans l'exemple precedent)\n",
    "\n",
    "La methode **write** du l'objet fichier permet d'enregistrer des valeurs dans le fichier.\n"
   ]
  },
  {
   "cell_type": "markdown",
   "id": "549f01d6",
   "metadata": {},
   "source": [
    "### Lecture des donnees dans un fichier"
   ]
  },
  {
   "cell_type": "code",
   "execution_count": 32,
   "id": "f6095560",
   "metadata": {},
   "outputs": [
    {
     "name": "stdout",
     "output_type": "stream",
     "text": [
      "Account   Name      Balance   \n",
      "100       Jones     24.98     \n",
      "200       Doe       345.67    \n",
      "300       White     0.00      \n",
      "400       Stone     -42.16    \n",
      "500       Rich      224.62    \n"
     ]
    }
   ],
   "source": [
    "with open('account.txt', mode= 'r') as accounts:\n",
    "    print(f'{\"Account\":<10}{\"Name\":<10}{\"Balance\":<10}')\n",
    "    for records in accounts:\n",
    "        account, name, balance = records.split()\n",
    "        print(f'{account:<10}{name:<10}{balance:<10}')\n",
    "    "
   ]
  },
  {
   "cell_type": "markdown",
   "id": "2005c981",
   "metadata": {},
   "source": [
    "- la methode **readline** aussi permet de lire les fichiers mais s'avere tres consmmateur en temps lorsque le fichier est de grande taille.C'est beaucoup moins efficace que le programme ecrit precedemment.\n",
    "\n",
    "### Mise a jour du fichier accounts\n",
    "Nous voulons changer le nom  du compte 300 de white par williams dans le fichier accounts. Que faire?\n",
    "\n",
    "nous pouvons :\n",
    "- copier les enregistrements avant 300 white 0.00 dans un fichier temporaire,\n",
    "- écrire le dossier du compte 300 dans ce fichier, en le mettant à jour et au format correct;\n",
    "- copier les enregistrements après 300 White 0.00 dans le fichier temporaire,\n",
    "- supprimer l’ancien fichier et\n",
    "- renommer le fichier temporaire pour utiliser le nom du fichier d’origine.\n",
    "\n",
    "Cette methode est tres fastidieuse car requiert le traitement de toutes les  donnees pour la modification d'une seule ligne. "
   ]
  },
  {
   "cell_type": "code",
   "execution_count": 33,
   "id": "e73558f5",
   "metadata": {},
   "outputs": [],
   "source": [
    "accounts = open('account.txt', mode= 'r')\n",
    "\n",
    "temp_file = open('temp_file.txt', mode= 'w')\n",
    "\n",
    "with accounts, temp_file:\n",
    "    \n",
    "    for record in accounts:\n",
    "        account, name, balance = record.split()\n",
    "        \n",
    "        if account!= '300': \n",
    "            temp_file.write(record)\n",
    "        else:\n",
    "\n",
    "            new_record = ' '.join([account, 'Williams', balance])\n",
    "            temp_file.write(new_record + '\\n')\n"
   ]
  },
  {
   "cell_type": "markdown",
   "id": "25b4026d",
   "metadata": {},
   "source": [
    "Il nous reste a supprimer l'ancien fichier 'account.txt' et renommer le fichier 'temp_file.txt' en 'account.txt' pour finaliser la mise a jour. Cela est possible avec les fonctions du module OS(Operating System)."
   ]
  },
  {
   "cell_type": "code",
   "execution_count": 34,
   "id": "added9f1",
   "metadata": {},
   "outputs": [],
   "source": [
    "import os    # importation du module os\n",
    "os.remove('account.txt')     # suppression du fichier accounts\n",
    "os.rename('temp_file.txt', 'account.txt')   # renomme le fichier temp_file.txt  en fichier accounts.txt "
   ]
  },
  {
   "cell_type": "markdown",
   "id": "cd3edb62",
   "metadata": {},
   "source": [
    "### La serialisation avec JSON\n",
    "\n",
    "la serialisation avec JSON consiste a convertir des objects ou structure de donnees en une chaine de caractere au format json. Les principales utilisation de la serialisation sont les suivantes:\n",
    "\n",
    "**1-Communication :** Transfert de données entre systèmes via des API ou des fichiers.\n",
    "\n",
    "**2-Stockage :** Sauvegarde de données dans des fichiers ou bases JSON.\n",
    "\n",
    "**3-Interopérabilité :** Échange entre différents langages de programmation.\n",
    "\n",
    "La fonction **dump** du module **json** de python permet de faire la serialisation. les objets JSON sont similaire aux dictionnaires python  \n"
   ]
  },
  {
   "cell_type": "code",
   "execution_count": 35,
   "id": "7912a553",
   "metadata": {},
   "outputs": [],
   "source": [
    "# Exemple de serialisation avec json\n",
    "## creation de dictionnaire \n",
    "accounts_dict = {'accounts': [{'account': 100, 'name': 'Jones', 'balance': 24.98},\n",
    "{'account': 200, 'name': 'Doe', 'balance': 345.67}]}  # ceation d'un dictionnaire \n",
    "\n",
    "## Serialisation proprement dite en JSON\n",
    "import json \n",
    "with open('accounts.json', 'w') as accounts:\n",
    "    json.dump(accounts_dict, accounts)        # un objet Json delimite une chaine de caractere qu'avec \n",
    "                                              # les doubles quote"
   ]
  },
  {
   "cell_type": "markdown",
   "id": "8e374035",
   "metadata": {},
   "source": [
    "### La deserialisation avec JSON\n",
    "\n",
    "C'est l'operation inverse de la serialisation. Passer du  contenue entier en json en l'objet python correspondant. Cette operation est realisee avec la fonction load() du module json"
   ]
  },
  {
   "cell_type": "code",
   "execution_count": 36,
   "id": "18b7abf9",
   "metadata": {},
   "outputs": [],
   "source": [
    "with open('accounts.json','r') as account:\n",
    "    accounts_json = json.load(account)"
   ]
  },
  {
   "cell_type": "code",
   "execution_count": 37,
   "id": "8dae3b4e",
   "metadata": {},
   "outputs": [
    {
     "data": {
      "text/plain": [
       "{'accounts': [{'account': 100, 'name': 'Jones', 'balance': 24.98},\n",
       "  {'account': 200, 'name': 'Doe', 'balance': 345.67}]}"
      ]
     },
     "execution_count": 37,
     "metadata": {},
     "output_type": "execute_result"
    }
   ],
   "source": [
    " accounts_json"
   ]
  },
  {
   "cell_type": "markdown",
   "id": "1ea49797",
   "metadata": {},
   "source": [
    "### Affichage d'un texte JSON\n",
    "L'affichage d'un texte json se fait avec la fonction **dumps**(pour 'dump string') et **load** du module json."
   ]
  },
  {
   "cell_type": "code",
   "execution_count": 38,
   "id": "b0158e4b",
   "metadata": {},
   "outputs": [
    {
     "name": "stdout",
     "output_type": "stream",
     "text": [
      "{\n",
      "    \"accounts\": [\n",
      "        {\n",
      "            \"account\": 100,\n",
      "            \"name\": \"Jones\",\n",
      "            \"balance\": 24.98\n",
      "        },\n",
      "        {\n",
      "            \"account\": 200,\n",
      "            \"name\": \"Doe\",\n",
      "            \"balance\": 345.67\n",
      "        }\n",
      "    ]\n",
      "}\n"
     ]
    }
   ],
   "source": [
    "with open('accounts.json', 'r') as accounts:\n",
    "    print(json.dumps(json.load(accounts), indent=4))  ## l'argument indent permet de faire de la pretty printing"
   ]
  },
  {
   "cell_type": "markdown",
   "id": "0c8c57c8",
   "metadata": {},
   "source": [
    "### Focus sur la securite: La serialisation et deserialisation  avec pickle\n",
    "La librairie pickle permet de serialiser et deserialiser les fichier dans un format specific de python. Cependant ce type de serialisation et deserialisatoion n'est pas conseille a cause de soon faible niveau de securite.\n",
    "\n",
    "Preventions dans la doc de pickle:\n",
    "- “Pickle files can be hacked. If you receive a raw pickle file over the network, don’t\n",
    "  trust it! It could have malicious code in it, that would run arbitrary Python when\n",
    "  you try to de-pickle it. However, if you are doing your own pickle writing and\n",
    "  reading, you’re safe (provided no one else has access to the pickle file, of course.)”\n",
    "- “Pickle is a protocol which allows the serialization of arbitrarily complex Python\n",
    "  objects. As such, it is specific to Python and cannot be used to communicate with\n",
    "  applications written in other languages. It is also insecure by default: deserializing\n",
    "  pickle data coming from an untrusted source can execute arbitrary code, if the\n",
    "  data was crafted by a skilled attacker.”\n"
   ]
  },
  {
   "cell_type": "markdown",
   "id": "a4a47888",
   "metadata": {},
   "source": [
    "### Remarques additionnelles concernant les tableaux\n",
    "\n",
    "\n",
    "|Mode|Description| \n",
    "|----|----------------------------------------------------------------------------------------------------------|\n",
    "| 'r'|  Open a text file for reading. This is the default if you do not specify the file-open mode when you call open.| \n",
    "|'w' | Open a text file for writing. Existing file contents are deleted.|\n",
    "| 'a' | Open a text file for appending at the end, creating the file if it does not exist. New data is written at the end of the file.|\n",
    "|'r+'| Open a text file reading and writing.|\n",
    "|'w+'| Open a text file reading and writing. Existing file contents are deleted.|\n",
    "|'a+'| Open a text file reading and appending at the end. New data is written at the end\n",
    "of the file. If the file does not exist, it is created.|\n",
    "\n"
   ]
  },
  {
   "cell_type": "markdown",
   "id": "8ef7367d",
   "metadata": {},
   "source": [
    "Voici quelques autres méthodes utiles pour les objets de fichier.\n",
    "- Pour un fichier texte, la méthode **read** renvoie une chaîne contenant le nombre de caractères spécifié par l'argument entier de la méthode. Pour un fichier binaire, la méthode retourne le nombre spécifié d'octets. Si aucun argument n'est spécifié, la méthode retourne l'intégralité du contenu du fichier.\n",
    "- La méthode **readline** renvoie une ligne de texte sous forme de chaîne, y compris le caractère de nouvelle ligne s'il y en a un. Cette méthode retourne une chaîne vide lorsqu'elle rencontre la fin du fichier.\n",
    "- La méthode **writelines** reçoit une liste de chaînes de caractères et écrit son contenu dans un fichier.\n",
    "- La méthode **readlines** renvoie le contenu de l'ensemble du fichier sous forme de liste de chaînes de caractères, où chaque élément de la liste représente une ligne du fichier.\n",
    "Les classes que Python utilise pour créer des objets de fichier sont définies dans le module io de la bibliothèque standard Python (https://docs.python.org/3/library/io.html).\n"
   ]
  },
  {
   "cell_type": "code",
   "execution_count": null,
   "id": "cedf5bbd",
   "metadata": {},
   "outputs": [],
   "source": []
  },
  {
   "cell_type": "code",
   "execution_count": null,
   "id": "184c0af7",
   "metadata": {},
   "outputs": [],
   "source": []
  }
 ],
 "metadata": {
  "kernelspec": {
   "display_name": "Python 3 (ipykernel)",
   "language": "python",
   "name": "python3"
  },
  "language_info": {
   "codemirror_mode": {
    "name": "ipython",
    "version": 3
   },
   "file_extension": ".py",
   "mimetype": "text/x-python",
   "name": "python",
   "nbconvert_exporter": "python",
   "pygments_lexer": "ipython3",
   "version": "3.7.16"
  }
 },
 "nbformat": 4,
 "nbformat_minor": 5
}
